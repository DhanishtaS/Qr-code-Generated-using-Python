{
 "cells": [
  {
   "cell_type": "code",
   "execution_count": 2,
   "id": "2f87f145",
   "metadata": {},
   "outputs": [
    {
     "name": "stdout",
     "output_type": "stream",
     "text": [
      "Requirement already satisfied: qrcode in c:\\users\\dhanishta\\anaconda3\\lib\\site-packages (7.4.2)\n",
      "Requirement already satisfied: pypng in c:\\users\\dhanishta\\anaconda3\\lib\\site-packages (from qrcode) (0.20220715.0)\n",
      "Requirement already satisfied: colorama in c:\\users\\dhanishta\\anaconda3\\lib\\site-packages (from qrcode) (0.4.6)\n",
      "Requirement already satisfied: typing-extensions in c:\\users\\dhanishta\\anaconda3\\lib\\site-packages (from qrcode) (4.10.0)\n"
     ]
    }
   ],
   "source": [
    "!pip install qrcode"
   ]
  },
  {
   "cell_type": "code",
   "execution_count": 3,
   "id": "ccf3580d",
   "metadata": {},
   "outputs": [],
   "source": [
    "import qrcode as qr"
   ]
  },
  {
   "cell_type": "code",
   "execution_count": 4,
   "id": "ffbba891",
   "metadata": {},
   "outputs": [],
   "source": [
    "img = qr.make(\"https://www.wikipedia.org/\")"
   ]
  },
  {
   "cell_type": "code",
   "execution_count": 5,
   "id": "33653c07",
   "metadata": {},
   "outputs": [],
   "source": [
    "img.save(\"wikipedia.png\")"
   ]
  },
  {
   "cell_type": "code",
   "execution_count": null,
   "id": "162aba1c",
   "metadata": {},
   "outputs": [],
   "source": []
  }
 ],
 "metadata": {
  "kernelspec": {
   "display_name": "Python 3 (ipykernel)",
   "language": "python",
   "name": "python3"
  },
  "language_info": {
   "codemirror_mode": {
    "name": "ipython",
    "version": 3
   },
   "file_extension": ".py",
   "mimetype": "text/x-python",
   "name": "python",
   "nbconvert_exporter": "python",
   "pygments_lexer": "ipython3",
   "version": "3.10.9"
  }
 },
 "nbformat": 4,
 "nbformat_minor": 5
}
